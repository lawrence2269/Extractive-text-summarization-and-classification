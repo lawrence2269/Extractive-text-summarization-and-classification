{
 "cells": [
  {
   "cell_type": "markdown",
   "metadata": {},
   "source": [
    "### Extractive text summarization of news articles using TextRank algorithm"
   ]
  },
  {
   "cell_type": "markdown",
   "metadata": {},
   "source": [
    "#### Aim:"
   ]
  },
  {
   "cell_type": "markdown",
   "metadata": {},
   "source": [
    "In this project, the aim is to create a system which will summarize the news articles from various sources such as BBC, CNN, NewYork Times, and etc. using one of the extractive text summarization approaches - <b><i>TextRank</i></b> algorithm into smaller texts which could be used by people for their own needs."
   ]
  },
  {
   "cell_type": "markdown",
   "metadata": {},
   "source": [
    "#### Dataset:\n",
    "The data used for both text summarization and text classification tasks are news articles obtained from British Broadcasting Corporation News (BBC News) which were used by Greene and Cunningham in their work - Kernel Document Clustering. The data consisted of 2225 documents of news articles with their summaries for the period 2004-2005 under 5 different labels such as business, entertainment, politics, sports, and technology. We are taking input as text files (.txt)."
   ]
  },
  {
   "cell_type": "markdown",
   "metadata": {},
   "source": [
    "#### Theory and Methodology:\n",
    "\n",
    "The text summarization is the process of providing concise and meaningful version of texts from various sources such as Twitter, Facebook, books and etc. There are two kinds of text summarization which are:\n",
    "* Extractive Text Summarization.\n",
    "* Abstractive Text Summarization.\n",
    "<br><br>\n",
    "<b><u>Extractive Text Summarization</u></b>: <br>\n",
    "This method generates summary based on using phrases and sentences from the given text. Hence, finding right sentences and phrases for a summary generation is an important task in this method. <br><br>\n",
    "<b><u>Abstractive Text Summarization</u></b>: <br>\n",
    "This method generates entirely new summary using Natural Language processing techniques. The tokens present in the generated summary may not be available in the given text.\n",
    "\n",
    "But, in this motebook, I am going to demonstrate the implementation of <b>Extractive Text Summarization</b> using <b>TextRank</b> algorithm and preserving <b> Abstractive Text Summarization</b> for performing comparative study between these two text summarization techniques for my master thesis. <br>\n",
    "\n",
    "##### TextRank Algorithm\n",
    "\n",
    "We need to have an understanding of <b>PageRank</b> algorithm before understanding TextRank algorithm because PageRank algorithm's working is similar to TextRank algorithm. PageRank algorithm's main purpose is to rank web pages based on the online search results. In order to rank the web pages, we need a <b>PageRank score</b> which is the probability of user visiting that web page. The scores are stored in a matrix of n X n dimension where n is the number of web pages.\n",
    "The score presented in the matrix representes the user's transistion from one page to another. Likewise, TextRank uses sentences to instead of web pages.\n",
    "\n",
    "<img src=\"TextRank_working.png\" align=\"center\" style = \"width : 800px\">\n",
    "<div style=\"text-align:center\">\n",
    "    Source : <a href=\"https://licor.me/post/introduction-to-automatic-text-summarization/\">Introduction to Automatic Text Summarization</a>\n",
    "</div>"
   ]
  },
  {
   "cell_type": "code",
   "execution_count": 1,
   "metadata": {},
   "outputs": [],
   "source": [
    "import numpy as np\n",
    "import pandas as pd\n",
    "import nltk\n",
    "import spacy\n",
    "from nltk import word_tokenize,sent_tokenize\n",
    "#nltk.download('punkt') # one time execution\n",
    "import os\n",
    "from pickle import load,dump #to load or dump files\n",
    "from sklearn.metrics.pairwise import cosine_similarity\n",
    "import networkx as nx"
   ]
  },
  {
   "cell_type": "code",
   "execution_count": 2,
   "metadata": {},
   "outputs": [
    {
     "data": {
      "text/plain": [
       "['business', 'sport', 'politics', 'tech']"
      ]
     },
     "execution_count": 2,
     "metadata": {},
     "output_type": "execute_result"
    }
   ],
   "source": [
    "categories = os.listdir(\"Data/BBC_News_Summary/News_Articles\")\n",
    "del categories[0] #because the list contains .DS.Store folder name which is system generated\n",
    "categories"
   ]
  },
  {
   "cell_type": "code",
   "execution_count": 3,
   "metadata": {},
   "outputs": [
    {
     "data": {
      "text/html": [
       "<div>\n",
       "<style scoped>\n",
       "    .dataframe tbody tr th:only-of-type {\n",
       "        vertical-align: middle;\n",
       "    }\n",
       "\n",
       "    .dataframe tbody tr th {\n",
       "        vertical-align: top;\n",
       "    }\n",
       "\n",
       "    .dataframe thead th {\n",
       "        text-align: right;\n",
       "    }\n",
       "</style>\n",
       "<table border=\"1\" class=\"dataframe\">\n",
       "  <thead>\n",
       "    <tr style=\"text-align: right;\">\n",
       "      <th></th>\n",
       "      <th>articles</th>\n",
       "      <th>summaries</th>\n",
       "    </tr>\n",
       "  </thead>\n",
       "  <tbody>\n",
       "    <tr>\n",
       "      <th>0</th>\n",
       "      <td>UK economy facing 'major risks'  The UK manufa...</td>\n",
       "      <td>\"Despite some positive news for the export sec...</td>\n",
       "    </tr>\n",
       "    <tr>\n",
       "      <th>1</th>\n",
       "      <td>Aids and climate top Davos agenda  Climate cha...</td>\n",
       "      <td>At the same time, about 100,000 people are exp...</td>\n",
       "    </tr>\n",
       "    <tr>\n",
       "      <th>2</th>\n",
       "      <td>Asian quake hits European shares  Shares in Eu...</td>\n",
       "      <td>The unfolding scale of the disaster in south A...</td>\n",
       "    </tr>\n",
       "    <tr>\n",
       "      <th>3</th>\n",
       "      <td>India power shares jump on debut  Shares in In...</td>\n",
       "      <td>Shares in India's largest power producer, Nati...</td>\n",
       "    </tr>\n",
       "    <tr>\n",
       "      <th>4</th>\n",
       "      <td>Lacroix label bought by US firm  Luxury goods ...</td>\n",
       "      <td>LVMH said the French designer's haute couture ...</td>\n",
       "    </tr>\n",
       "    <tr>\n",
       "      <th>5</th>\n",
       "      <td>Insurance bosses plead guilty  Another three U...</td>\n",
       "      <td>A Marsh spokeswoman said Mr Bewlay was no long...</td>\n",
       "    </tr>\n",
       "    <tr>\n",
       "      <th>6</th>\n",
       "      <td>Turkey-Iran mobile deal 'at risk'  Turkey's in...</td>\n",
       "      <td>Turkcell's mobile deal is the second Turkish i...</td>\n",
       "    </tr>\n",
       "    <tr>\n",
       "      <th>7</th>\n",
       "      <td>Parmalat to return to stockmarket  Parmalat, t...</td>\n",
       "      <td>The plan is likely to give creditors of Parmal...</td>\n",
       "    </tr>\n",
       "    <tr>\n",
       "      <th>8</th>\n",
       "      <td>WorldCom director admits lying  The former chi...</td>\n",
       "      <td>Mr Sullivan, 42, has already pleaded guilty to...</td>\n",
       "    </tr>\n",
       "    <tr>\n",
       "      <th>9</th>\n",
       "      <td>Ebbers denies WorldCom fraud  Former WorldCom ...</td>\n",
       "      <td>Mr Ebbers relationship to Mr Sullivan is key t...</td>\n",
       "    </tr>\n",
       "  </tbody>\n",
       "</table>\n",
       "</div>"
      ],
      "text/plain": [
       "                                            articles  \\\n",
       "0  UK economy facing 'major risks'  The UK manufa...   \n",
       "1  Aids and climate top Davos agenda  Climate cha...   \n",
       "2  Asian quake hits European shares  Shares in Eu...   \n",
       "3  India power shares jump on debut  Shares in In...   \n",
       "4  Lacroix label bought by US firm  Luxury goods ...   \n",
       "5  Insurance bosses plead guilty  Another three U...   \n",
       "6  Turkey-Iran mobile deal 'at risk'  Turkey's in...   \n",
       "7  Parmalat to return to stockmarket  Parmalat, t...   \n",
       "8  WorldCom director admits lying  The former chi...   \n",
       "9  Ebbers denies WorldCom fraud  Former WorldCom ...   \n",
       "\n",
       "                                           summaries  \n",
       "0  \"Despite some positive news for the export sec...  \n",
       "1  At the same time, about 100,000 people are exp...  \n",
       "2  The unfolding scale of the disaster in south A...  \n",
       "3  Shares in India's largest power producer, Nati...  \n",
       "4  LVMH said the French designer's haute couture ...  \n",
       "5  A Marsh spokeswoman said Mr Bewlay was no long...  \n",
       "6  Turkcell's mobile deal is the second Turkish i...  \n",
       "7  The plan is likely to give creditors of Parmal...  \n",
       "8  Mr Sullivan, 42, has already pleaded guilty to...  \n",
       "9  Mr Ebbers relationship to Mr Sullivan is key t...  "
      ]
     },
     "execution_count": 3,
     "metadata": {},
     "output_type": "execute_result"
    }
   ],
   "source": [
    "# Reading articles\n",
    "articles = []\n",
    "summaries = []\n",
    "for newsType in categories:\n",
    "    article_Files = os.listdir(\"Data/BBC_News_Summary/News_Articles/\"+newsType)\n",
    "    summary_Files = os.listdir(\"Data/BBC_News_Summary/Summaries/\"+newsType)\n",
    "    for article_File in article_Files:\n",
    "        with open(\"Data/BBC_News_Summary/News_Articles/\"+newsType+\"/\"+article_File,\"r\",encoding='utf-8',errors='ignore') as source_1:\n",
    "            article = source_1.read().strip().splitlines()\n",
    "        articles.append(\" \".join(article))\n",
    "    for summary_File in summary_Files:\n",
    "        with open(\"Data/BBC_News_Summary/Summaries/\"+newsType+\"/\"+summary_File,\"r\",encoding='utf-8',errors='ignore') as source_2:\n",
    "            summary = source_2.read().strip().splitlines()\n",
    "        summaries.append(\" \".join(summary))\n",
    "article_summary_dict = {\"articles\":articles,\"summaries\":summaries}\n",
    "news_summary_data = pd.DataFrame.from_dict(article_summary_dict)\n",
    "news_summary_data.head(10)"
   ]
  },
  {
   "cell_type": "code",
   "execution_count": 4,
   "metadata": {},
   "outputs": [
    {
     "data": {
      "text/plain": [
       "'\"Despite some positive news for the export sector, there are worrying signs for manufacturing,\" the BCC said.The BCC found confidence increased in the quarter across both the manufacturing and service sectors although overall it failed to reach the levels at the start of 2004.The outlook for the service sector was \"uncertain\" despite an increase in exports and orders over the quarter, the BCC noted.The UK manufacturing sector will continue to face \"serious challenges\" over the next two years, the British Chamber of Commerce (BCC) has said.However, the BCC found the whole UK economy still faced \"major risks\" and warned that growth is set to slow.The reduced threat of interest rate increases had contributed to improved confidence, it said.The rise came despite exchange rates being cited as a major concern.'"
      ]
     },
     "execution_count": 4,
     "metadata": {},
     "output_type": "execute_result"
    }
   ],
   "source": [
    "news_summary_data.iloc[0,1]"
   ]
  },
  {
   "cell_type": "markdown",
   "metadata": {},
   "source": [
    "### Text Preprocessing"
   ]
  },
  {
   "cell_type": "code",
   "execution_count": 5,
   "metadata": {},
   "outputs": [],
   "source": [
    "#nltk.download('stopwords')\n",
    "# if stopwords downloaded, no need to execute the above command"
   ]
  },
  {
   "cell_type": "code",
   "execution_count": 6,
   "metadata": {},
   "outputs": [],
   "source": [
    "import string\n",
    "import contractions\n",
    "import nltk\n",
    "from nltk.corpus import stopwords\n",
    "\n",
    "stop_words = stopwords.words('english')\n",
    "\n",
    "punct =[]\n",
    "punct += list(string.punctuation)\n",
    "punct += '’'\n",
    "punct.remove(\"'\")\n",
    "\n",
    "def remove_punctuations(text):\n",
    "    no_punct = \"\"\n",
    "    for char in text:\n",
    "        if char not in punct:\n",
    "            no_punct = no_punct + char\n",
    "    return no_punct"
   ]
  },
  {
   "cell_type": "code",
   "execution_count": 7,
   "metadata": {},
   "outputs": [],
   "source": [
    "def cleaned_Text(Sent):\n",
    "    cleaned_desc = []\n",
    "    for sentences in Sent:\n",
    "        encoding = sentences.encode(\"ascii\",\"ignore\")\n",
    "        sent = encoding.decode().split()\n",
    "        cleaned_Sent = [text.lower() for text in sent]\n",
    "        cleaned_Sent = [contractions.fix(text) for text in cleaned_Sent]\n",
    "        cleaned_Sent = [remove_punctuations(text) for text in cleaned_Sent]\n",
    "        cleaned_Sent = [text for text in cleaned_Sent if(text.isalpha())]\n",
    "        cleaned_Sent = [text for text in cleaned_Sent if text not in stop_words]\n",
    "        cleaned_Sent = \" \".join(cleaned_Sent)\n",
    "        cleaned_desc.append(cleaned_Sent)\n",
    "    return cleaned_desc"
   ]
  },
  {
   "cell_type": "code",
   "execution_count": 8,
   "metadata": {},
   "outputs": [
    {
     "data": {
      "text/plain": [
       "'UK economy facing \\'major risks\\'  The UK manufacturing sector will continue to face \"serious challenges\" over the next two years, the British Chamber of Commerce (BCC) has said.  The group\\'s quarterly survey of companies found exports had picked up in the last three months of 2004 to their best levels in eight years. The rise came despite exchange rates being cited as a major concern. However, the BCC found the whole UK economy still faced \"major risks\" and warned that growth is set to slow. It recently forecast economic growth will slow from more than 3% in 2004 to a little below 2.5% in both 2005 and 2006.  Manufacturers\\' domestic sales growth fell back slightly in the quarter, the survey of 5,196 firms found. Employment in manufacturing also fell and job expectations were at their lowest level for a year.  \"Despite some positive news for the export sector, there are worrying signs for manufacturing,\" the BCC said. \"These results reinforce our concern over the sector\\'s persistent inability to sustain recovery.\" The outlook for the service sector was \"uncertain\" despite an increase in exports and orders over the quarter, the BCC noted.  The BCC found confidence increased in the quarter across both the manufacturing and service sectors although overall it failed to reach the levels at the start of 2004. The reduced threat of interest rate increases had contributed to improved confidence, it said. The Bank of England raised interest rates five times between November 2003 and August last year. But rates have been kept on hold since then amid signs of falling consumer confidence and a slowdown in output. \"The pressure on costs and margins, the relentless increase in regulations, and the threat of higher taxes remain serious problems,\" BCC director general David Frost said. \"While consumer spending is set to decelerate significantly over the next 12-18 months, it is unlikely that investment and exports will rise sufficiently strongly to pick up the slack.\"'"
      ]
     },
     "execution_count": 8,
     "metadata": {},
     "output_type": "execute_result"
    }
   ],
   "source": [
    "sample_Input = article_summary_dict['articles'][0]\n",
    "sample_Input"
   ]
  },
  {
   "cell_type": "markdown",
   "metadata": {},
   "source": [
    "### Sentence tokenizing"
   ]
  },
  {
   "cell_type": "code",
   "execution_count": 9,
   "metadata": {},
   "outputs": [
    {
     "data": {
      "text/plain": [
       "['UK economy facing \\'major risks\\'  The UK manufacturing sector will continue to face \"serious challenges\" over the next two years, the British Chamber of Commerce (BCC) has said.',\n",
       " \"The group's quarterly survey of companies found exports had picked up in the last three months of 2004 to their best levels in eight years.\",\n",
       " 'The rise came despite exchange rates being cited as a major concern.',\n",
       " 'However, the BCC found the whole UK economy still faced \"major risks\" and warned that growth is set to slow.',\n",
       " 'It recently forecast economic growth will slow from more than 3% in 2004 to a little below 2.5% in both 2005 and 2006.',\n",
       " \"Manufacturers' domestic sales growth fell back slightly in the quarter, the survey of 5,196 firms found.\",\n",
       " 'Employment in manufacturing also fell and job expectations were at their lowest level for a year.',\n",
       " '\"Despite some positive news for the export sector, there are worrying signs for manufacturing,\" the BCC said.',\n",
       " '\"These results reinforce our concern over the sector\\'s persistent inability to sustain recovery.\"',\n",
       " 'The outlook for the service sector was \"uncertain\" despite an increase in exports and orders over the quarter, the BCC noted.',\n",
       " 'The BCC found confidence increased in the quarter across both the manufacturing and service sectors although overall it failed to reach the levels at the start of 2004.',\n",
       " 'The reduced threat of interest rate increases had contributed to improved confidence, it said.',\n",
       " 'The Bank of England raised interest rates five times between November 2003 and August last year.',\n",
       " 'But rates have been kept on hold since then amid signs of falling consumer confidence and a slowdown in output.',\n",
       " '\"The pressure on costs and margins, the relentless increase in regulations, and the threat of higher taxes remain serious problems,\" BCC director general David Frost said.',\n",
       " '\"While consumer spending is set to decelerate significantly over the next 12-18 months, it is unlikely that investment and exports will rise sufficiently strongly to pick up the slack.\"']"
      ]
     },
     "execution_count": 9,
     "metadata": {},
     "output_type": "execute_result"
    }
   ],
   "source": [
    "sentences = sent_tokenize(sample_Input)\n",
    "sentences"
   ]
  },
  {
   "cell_type": "markdown",
   "metadata": {},
   "source": [
    "### Extracting Word Embeddings"
   ]
  },
  {
   "cell_type": "code",
   "execution_count": 19,
   "metadata": {},
   "outputs": [
    {
     "data": {
      "text/plain": [
       "400000"
      ]
     },
     "execution_count": 19,
     "metadata": {},
     "output_type": "execute_result"
    }
   ],
   "source": [
    "word_embeddings = {}\n",
    "f = open('data/glove.6B/glove.6B.100d.txt', encoding='utf-8')\n",
    "for line in f:\n",
    "    values = line.split()\n",
    "    word = values[0]\n",
    "    coefs = np.asarray(values[1:], dtype='float32')\n",
    "    word_embeddings[word] = coefs\n",
    "f.close()\n",
    "len(word_embeddings)"
   ]
  },
  {
   "cell_type": "code",
   "execution_count": 20,
   "metadata": {},
   "outputs": [],
   "source": [
    "dump(word_embeddings, open('Data/word_embeddings.p', 'wb'))\n",
    "#word_embeddings = load(open(\"Data/word_embeddings.p\",\"rb\"))"
   ]
  },
  {
   "cell_type": "markdown",
   "metadata": {},
   "source": [
    "### Vector representation of sentences"
   ]
  },
  {
   "cell_type": "code",
   "execution_count": 11,
   "metadata": {},
   "outputs": [
    {
     "data": {
      "text/plain": [
       "['uk economy facing uk manufacturing sector continue face serious challenges next two years british chamber commerce bcc said',\n",
       " 'quarterly survey companies found exports picked last three months best levels eight years',\n",
       " 'rise came despite exchange rates cited major concern',\n",
       " 'however bcc found whole uk economy still faced major risks warned growth set slow',\n",
       " 'recently forecast economic growth slow little',\n",
       " 'domestic sales growth fell back slightly quarter survey firms found',\n",
       " 'employment manufacturing also fell job expectations lowest level year',\n",
       " 'despite positive news export sector worrying signs manufacturing bcc said',\n",
       " 'results reinforce concern persistent inability sustain recovery',\n",
       " 'outlook service sector uncertain despite increase exports orders quarter bcc noted',\n",
       " 'bcc found confidence increased quarter across manufacturing service sectors although overall failed reach levels start',\n",
       " 'reduced threat interest rate increases contributed improved confidence said',\n",
       " 'bank england raised interest rates five times november august last year',\n",
       " 'rates kept hold since amid signs falling consumer confidence slowdown output',\n",
       " 'pressure costs margins relentless increase regulations threat higher taxes remain serious problems bcc director general david frost said',\n",
       " 'consumer spending set decelerate significantly next months unlikely investment exports rise sufficiently strongly pick slack']"
      ]
     },
     "execution_count": 11,
     "metadata": {},
     "output_type": "execute_result"
    }
   ],
   "source": [
    "#Cleaned a sample article from the dataframe\n",
    "sentences = cleaned_Text(sentences)\n",
    "sentences"
   ]
  },
  {
   "cell_type": "code",
   "execution_count": 12,
   "metadata": {},
   "outputs": [],
   "source": [
    "sentence_vectors = []\n",
    "for i in sentences:\n",
    "    if len(i) != 0:\n",
    "        v = sum([word_embeddings.get(w, np.zeros((300,))) for w in i.split()])/(len(i.split())+0.001)\n",
    "    else:\n",
    "        v = np.zeros((300,))\n",
    "    sentence_vectors.append(v)"
   ]
  },
  {
   "cell_type": "markdown",
   "metadata": {},
   "source": [
    "### Similarity Matrix"
   ]
  },
  {
   "cell_type": "code",
   "execution_count": 13,
   "metadata": {},
   "outputs": [],
   "source": [
    "similarity_matrix = np.zeros([len(sentences), len(sentences)])\n",
    "for i in range(len(sentences)):\n",
    "    for j in range(len(sentences)):\n",
    "        if i != j:\n",
    "            similarity_matrix[i][j] = cosine_similarity(sentence_vectors[i].reshape(1,300), sentence_vectors[j].reshape(1,300))[0,0]"
   ]
  },
  {
   "cell_type": "markdown",
   "metadata": {},
   "source": [
    "### PageRank Algorithm"
   ]
  },
  {
   "cell_type": "code",
   "execution_count": 14,
   "metadata": {},
   "outputs": [],
   "source": [
    "graph = nx.from_numpy_array(similarity_matrix)\n",
    "scores = nx.pagerank(graph)"
   ]
  },
  {
   "cell_type": "markdown",
   "metadata": {},
   "source": [
    "### Ranking the sentences and generating summary"
   ]
  },
  {
   "cell_type": "code",
   "execution_count": 15,
   "metadata": {},
   "outputs": [],
   "source": [
    "ranked_sentences = sorted(((scores[i],s) for i,s in enumerate(sentences)), reverse=True)"
   ]
  },
  {
   "cell_type": "code",
   "execution_count": 13,
   "metadata": {},
   "outputs": [],
   "source": [
    "def generate_Summary(limit, ranked_Sentences):\n",
    "    summary = []\n",
    "    for i in range(limit):\n",
    "        summary.append(ranked_Sentences[i][1])\n",
    "    return \". \".join(summary)"
   ]
  },
  {
   "cell_type": "markdown",
   "metadata": {},
   "source": [
    "### Original Summary"
   ]
  },
  {
   "cell_type": "code",
   "execution_count": 17,
   "metadata": {},
   "outputs": [
    {
     "data": {
      "text/plain": [
       "'\"Despite some positive news for the export sector, there are worrying signs for manufacturing,\" the BCC said.The BCC found confidence increased in the quarter across both the manufacturing and service sectors although overall it failed to reach the levels at the start of 2004.The outlook for the service sector was \"uncertain\" despite an increase in exports and orders over the quarter, the BCC noted.The UK manufacturing sector will continue to face \"serious challenges\" over the next two years, the British Chamber of Commerce (BCC) has said.However, the BCC found the whole UK economy still faced \"major risks\" and warned that growth is set to slow.The reduced threat of interest rate increases had contributed to improved confidence, it said.The rise came despite exchange rates being cited as a major concern.'"
      ]
     },
     "execution_count": 17,
     "metadata": {},
     "output_type": "execute_result"
    }
   ],
   "source": [
    "article_summary_dict['summaries'][0]"
   ]
  },
  {
   "cell_type": "markdown",
   "metadata": {},
   "source": [
    "### Generated Summary"
   ]
  },
  {
   "cell_type": "code",
   "execution_count": 18,
   "metadata": {},
   "outputs": [
    {
     "data": {
      "text/plain": [
       "'bcc found confidence increased quarter across manufacturing service sectors although overall failed reach levels start however bcc found whole uk economy still faced major risks warned growth set slow rates kept hold since amid signs falling consumer confidence slowdown output outlook service sector uncertain despite increase exports orders quarter bcc noted consumer spending set decelerate significantly next months unlikely investment exports rise sufficiently strongly pick slack'"
      ]
     },
     "execution_count": 18,
     "metadata": {},
     "output_type": "execute_result"
    }
   ],
   "source": [
    "generated_Summary = generate_Summary(5, ranked_sentences)\n",
    "generated_Summary"
   ]
  },
  {
   "cell_type": "markdown",
   "metadata": {},
   "source": [
    "### Similarity between original and generated summary"
   ]
  },
  {
   "cell_type": "code",
   "execution_count": 19,
   "metadata": {},
   "outputs": [
    {
     "data": {
      "text/plain": [
       "0.92"
      ]
     },
     "execution_count": 19,
     "metadata": {},
     "output_type": "execute_result"
    }
   ],
   "source": [
    "nlp = spacy.load(\"en_core_web_lg\")\n",
    "round(nlp(generated_Summary).similarity(nlp(article_summary_dict['summaries'][0])),2)"
   ]
  },
  {
   "cell_type": "markdown",
   "metadata": {},
   "source": [
    "### Creating function to generate summary for all inputs"
   ]
  },
  {
   "cell_type": "code",
   "execution_count": 14,
   "metadata": {},
   "outputs": [],
   "source": [
    "def summarize_News(article):\n",
    "    limit = 5 #Number of sentences to be present in a summary, 5 is default.\n",
    "    word_embeddings = load(open(\"Data/word_embeddings.p\",\"rb\"))\n",
    "    sentences = sent_tokenize(article)\n",
    "    sentences = cleaned_Text(sentences)\n",
    "    sentence_vectors = []\n",
    "    \n",
    "    #Vector representation\n",
    "    for i in sentences:\n",
    "        if len(i) != 0:\n",
    "            v = sum([word_embeddings.get(w, np.zeros((100,))) for w in i.split()])/(len(i.split())+0.001)\n",
    "        else:\n",
    "            v = np.zeros((100,))\n",
    "        sentence_vectors.append(v)\n",
    "    \n",
    "    #Similarity matrix\n",
    "    similarity_matrix = np.zeros([len(sentences), len(sentences)])\n",
    "    for i in range(len(sentences)):\n",
    "        for j in range(len(sentences)):\n",
    "            if i != j:\n",
    "                similarity_matrix[i][j] = cosine_similarity(sentence_vectors[i].reshape(1,100), sentence_vectors[j].reshape(1,100))[0,0]\n",
    "    \n",
    "    #PageRank Algorithm\n",
    "    graph = nx.from_numpy_array(similarity_matrix)\n",
    "    scores = nx.pagerank(graph)\n",
    "    \n",
    "    #Ranking documents\n",
    "    ranked_sentences = sorted(((scores[i],s) for i,s in enumerate(sentences)), reverse=True)\n",
    "    \n",
    "    if(len(ranked_sentences) > 0):\n",
    "        #returning generated summary\n",
    "        return generate_Summary(limit, ranked_sentences)"
   ]
  },
  {
   "cell_type": "code",
   "execution_count": 15,
   "metadata": {},
   "outputs": [
    {
     "data": {
      "text/plain": [
       "1839"
      ]
     },
     "execution_count": 15,
     "metadata": {},
     "output_type": "execute_result"
    }
   ],
   "source": [
    "len(article_summary_dict['articles'])"
   ]
  },
  {
   "cell_type": "code",
   "execution_count": 16,
   "metadata": {},
   "outputs": [
    {
     "data": {
      "text/plain": [
       "['bcc found confidence increased quarter across manufacturing service sectors although overall failed reach levels start. however bcc found whole uk economy still faced major risks warned growth set slow. rise came despite exchange rates cited major concern. outlook service sector uncertain despite increase exports orders quarter bcc noted. consumer spending set decelerate significantly next months unlikely investment exports rise sufficiently strongly pick slack',\n",
       " 'themes stressed mr blair whose attendance announced last minute wants dominate chairmanship group industrialised states. business political leaders around globe listen uk prime minister tony opening speech wednesday. survey published eve conference pricewaterhousecoopers said four ten business leaders confident companies would see sales rise. aids climate top davos agenda climate change fight aids leading list concerns first day world economic forum swiss resort davos. aside mr blair world leaders expected attend including french president jacques chirac due speak video link bad weather delayed helicopter south african president thabo mbeki whose arrival delayed ivory coast peace talks',\n",
       " 'india people thought died rupee dollar analysts said difficult predict total cost disaster warned share prices currencies would come increasing pressure bills mounted. shares munich swiss two biggest reinsurers fell market speculated cost rebuilding asia. investors pointed however declines probably would industry specific travel insurance firms hit hardest. worries size insurance liabilities dragged european shares although impact exacerbated light postchristmas trading. disaster little impact stock markets us asia',\n",
       " 'million share offer mix new shares sales government raised. india power shares jump debut shares largest power producer national thermal power corp ntpc risen stock market debut. analysts say success ntpc flotation would encourage government reduce stakes power companies. ntpc said use money share sale feed growing needs energystarved economy. second stock debut three months coming flotation software firm tata',\n",
       " 'lacroix label bought us firm luxury goods group lvmh sold lossmaking christian lacroix clothing label us investment group. lvmh said french haute couture readytowear labels purchased falic group unspecified sum. sale lacroix label comes many fashion houses struggling make money expensive haute couture ranges. floridabased falic group also runs chain duty free stores us said planned expand brand opening new stores. falic group bought two cosmetics labels lvmh']"
      ]
     },
     "execution_count": 16,
     "metadata": {},
     "output_type": "execute_result"
    }
   ],
   "source": [
    "summaries = [summarize_News(article_summary_dict['articles'][data]) for data in range(5)]\n",
    "summaries"
   ]
  },
  {
   "cell_type": "markdown",
   "metadata": {},
   "source": [
    "### Evaluation"
   ]
  },
  {
   "cell_type": "code",
   "execution_count": 17,
   "metadata": {},
   "outputs": [],
   "source": [
    "from rouge import Rouge"
   ]
  },
  {
   "cell_type": "code",
   "execution_count": 18,
   "metadata": {},
   "outputs": [],
   "source": [
    "rouge = Rouge()\n",
    "rouge_Scores = [rouge.get_scores(summaries[i],article_summary_dict['summaries'][i]) for i in range(5)]"
   ]
  },
  {
   "cell_type": "code",
   "execution_count": 19,
   "metadata": {},
   "outputs": [
    {
     "data": {
      "text/plain": [
       "[[{'rouge-1': {'f': 0.4040403997015611,\n",
       "    'p': 0.6349206349206349,\n",
       "    'r': 0.2962962962962963},\n",
       "   'rouge-2': {'f': 0.14285713853186185,\n",
       "    'p': 0.22580645161290322,\n",
       "    'r': 0.1044776119402985},\n",
       "   'rouge-l': {'f': 0.4966442907184362,\n",
       "    'p': 0.6981132075471698,\n",
       "    'r': 0.3854166666666667}}],\n",
       " [{'rouge-1': {'f': 0.26997244790018904,\n",
       "    'p': 0.5104166666666666,\n",
       "    'r': 0.18352059925093633},\n",
       "   'rouge-2': {'f': 0.09972298781163451,\n",
       "    'p': 0.18947368421052632,\n",
       "    'r': 0.06766917293233082},\n",
       "   'rouge-l': {'f': 0.342205318846304,\n",
       "    'p': 0.5357142857142857,\n",
       "    'r': 0.25139664804469275}}],\n",
       " [{'rouge-1': {'f': 0.28242074612827944,\n",
       "    'p': 0.7205882352941176,\n",
       "    'r': 0.17562724014336917},\n",
       "   'rouge-2': {'f': 0.09275362005864325,\n",
       "    'p': 0.23880597014925373,\n",
       "    'r': 0.05755395683453238},\n",
       "   'rouge-l': {'f': 0.3809523770656472,\n",
       "    'p': 0.7213114754098361,\n",
       "    'r': 0.25882352941176473}}],\n",
       " [{'rouge-1': {'f': 0.3731343234127869,\n",
       "    'p': 0.4166666666666667,\n",
       "    'r': 0.33783783783783783},\n",
       "   'rouge-2': {'f': 0.13636363141988084,\n",
       "    'p': 0.15254237288135594,\n",
       "    'r': 0.1232876712328767},\n",
       "   'rouge-l': {'f': 0.4571428521977324,\n",
       "    'p': 0.5106382978723404,\n",
       "    'r': 0.41379310344827586}}],\n",
       " [{'rouge-1': {'f': 0.30769230282416543,\n",
       "    'p': 0.2647058823529412,\n",
       "    'r': 0.3673469387755102},\n",
       "   'rouge-2': {'f': 0.1391304299190928,\n",
       "    'p': 0.11940298507462686,\n",
       "    'r': 0.16666666666666666},\n",
       "   'rouge-l': {'f': 0.3555555505777778,\n",
       "    'p': 0.3333333333333333,\n",
       "    'r': 0.38095238095238093}}]]"
      ]
     },
     "execution_count": 19,
     "metadata": {},
     "output_type": "execute_result"
    }
   ],
   "source": [
    "rouge_Scores"
   ]
  },
  {
   "cell_type": "code",
   "execution_count": 20,
   "metadata": {},
   "outputs": [
    {
     "data": {
      "text/plain": [
       "[0.21318332348136937,\n",
       " 0.20180804966447832,\n",
       " 0.24290136946927754,\n",
       " 0.20035324211525896,\n",
       " 0.15562331756599762]"
      ]
     },
     "execution_count": 20,
     "metadata": {},
     "output_type": "execute_result"
    }
   ],
   "source": [
    "from nltk.translate.bleu_score import sentence_bleu\n",
    "bleu_score = [sentence_bleu(article_summary_dict['summaries'][i].split(),summaries[i]) for i in range(5)]\n",
    "bleu_score"
   ]
  }
 ],
 "metadata": {
  "kernelspec": {
   "display_name": "Python 3",
   "language": "python",
   "name": "python3"
  },
  "language_info": {
   "codemirror_mode": {
    "name": "ipython",
    "version": 3
   },
   "file_extension": ".py",
   "mimetype": "text/x-python",
   "name": "python",
   "nbconvert_exporter": "python",
   "pygments_lexer": "ipython3",
   "version": "3.8.5"
  }
 },
 "nbformat": 4,
 "nbformat_minor": 4
}
