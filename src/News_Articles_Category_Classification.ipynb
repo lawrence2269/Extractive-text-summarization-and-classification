{
 "cells": [
  {
   "cell_type": "markdown",
   "metadata": {},
   "source": [
    "## News articles category classification"
   ]
  },
  {
   "cell_type": "markdown",
   "metadata": {},
   "source": [
    "The main purpose of this task is to help the executives in the organization who have limited time to know about the things going around the world in a shorter and condensed way. As one of the business executives in an e-commerce organization, I would be interested to know about facts in the following areas, <br>\n",
    "* Business\n",
    "* Politics\n",
    "* Entertainment\n",
    "* Tech\n",
    "* Sports"
   ]
  },
  {
   "cell_type": "code",
   "execution_count": 1,
   "metadata": {},
   "outputs": [],
   "source": [
    "import pandas as pd\n",
    "import matplotlib.pyplot as plt\n",
    "import seaborn as sns\n",
    "import numpy as np\n",
    "import os\n",
    "%matplotlib inline"
   ]
  },
  {
   "cell_type": "code",
   "execution_count": 2,
   "metadata": {},
   "outputs": [
    {
     "name": "stdout",
     "output_type": "stream",
     "text": [
      "['business', 'entertainment', 'politics', 'sport', 'tech']\n"
     ]
    }
   ],
   "source": [
    "categories = os.listdir(\"Data/BBC_News_Summary/News_Articles/\")\n",
    "categories.sort()\n",
    "print(categories)"
   ]
  },
  {
   "cell_type": "code",
   "execution_count": 3,
   "metadata": {},
   "outputs": [
    {
     "data": {
      "text/html": [
       "<div>\n",
       "<style scoped>\n",
       "    .dataframe tbody tr th:only-of-type {\n",
       "        vertical-align: middle;\n",
       "    }\n",
       "\n",
       "    .dataframe tbody tr th {\n",
       "        vertical-align: top;\n",
       "    }\n",
       "\n",
       "    .dataframe thead th {\n",
       "        text-align: right;\n",
       "    }\n",
       "</style>\n",
       "<table border=\"1\" class=\"dataframe\">\n",
       "  <thead>\n",
       "    <tr style=\"text-align: right;\">\n",
       "      <th></th>\n",
       "      <th>articles</th>\n",
       "      <th>category</th>\n",
       "    </tr>\n",
       "  </thead>\n",
       "  <tbody>\n",
       "    <tr>\n",
       "      <th>0</th>\n",
       "      <td>UK economy facing 'major risks'  The UK manufa...</td>\n",
       "      <td>business</td>\n",
       "    </tr>\n",
       "    <tr>\n",
       "      <th>1</th>\n",
       "      <td>Aids and climate top Davos agenda  Climate cha...</td>\n",
       "      <td>business</td>\n",
       "    </tr>\n",
       "    <tr>\n",
       "      <th>2</th>\n",
       "      <td>Asian quake hits European shares  Shares in Eu...</td>\n",
       "      <td>business</td>\n",
       "    </tr>\n",
       "    <tr>\n",
       "      <th>3</th>\n",
       "      <td>India power shares jump on debut  Shares in In...</td>\n",
       "      <td>business</td>\n",
       "    </tr>\n",
       "    <tr>\n",
       "      <th>4</th>\n",
       "      <td>Lacroix label bought by US firm  Luxury goods ...</td>\n",
       "      <td>business</td>\n",
       "    </tr>\n",
       "    <tr>\n",
       "      <th>5</th>\n",
       "      <td>Insurance bosses plead guilty  Another three U...</td>\n",
       "      <td>business</td>\n",
       "    </tr>\n",
       "    <tr>\n",
       "      <th>6</th>\n",
       "      <td>Turkey-Iran mobile deal 'at risk'  Turkey's in...</td>\n",
       "      <td>business</td>\n",
       "    </tr>\n",
       "    <tr>\n",
       "      <th>7</th>\n",
       "      <td>Parmalat to return to stockmarket  Parmalat, t...</td>\n",
       "      <td>business</td>\n",
       "    </tr>\n",
       "    <tr>\n",
       "      <th>8</th>\n",
       "      <td>WorldCom director admits lying  The former chi...</td>\n",
       "      <td>business</td>\n",
       "    </tr>\n",
       "    <tr>\n",
       "      <th>9</th>\n",
       "      <td>Ebbers denies WorldCom fraud  Former WorldCom ...</td>\n",
       "      <td>business</td>\n",
       "    </tr>\n",
       "  </tbody>\n",
       "</table>\n",
       "</div>"
      ],
      "text/plain": [
       "                                            articles  category\n",
       "0  UK economy facing 'major risks'  The UK manufa...  business\n",
       "1  Aids and climate top Davos agenda  Climate cha...  business\n",
       "2  Asian quake hits European shares  Shares in Eu...  business\n",
       "3  India power shares jump on debut  Shares in In...  business\n",
       "4  Lacroix label bought by US firm  Luxury goods ...  business\n",
       "5  Insurance bosses plead guilty  Another three U...  business\n",
       "6  Turkey-Iran mobile deal 'at risk'  Turkey's in...  business\n",
       "7  Parmalat to return to stockmarket  Parmalat, t...  business\n",
       "8  WorldCom director admits lying  The former chi...  business\n",
       "9  Ebbers denies WorldCom fraud  Former WorldCom ...  business"
      ]
     },
     "execution_count": 3,
     "metadata": {},
     "output_type": "execute_result"
    }
   ],
   "source": [
    "# Reading articles\n",
    "articles = []\n",
    "category = []\n",
    "for newsType in categories:\n",
    "    files = os.listdir(\"Data/BBC_News_Summary/News_Articles/\"+newsType)\n",
    "    for file in files:\n",
    "        with open(\"Data/BBC_News_Summary/News_Articles/\"+newsType+\"/\"+file,\"r\",encoding='utf-8',errors='ignore') as source:\n",
    "            data = source.read().strip().splitlines()\n",
    "        articles.append(\" \".join(data))\n",
    "        category.append(newsType)\n",
    "article_dict = {\"articles\":articles,\"category\":category}\n",
    "news_category_data = pd.DataFrame.from_dict(article_dict)\n",
    "news_category_data.head(10)"
   ]
  },
  {
   "cell_type": "code",
   "execution_count": 4,
   "metadata": {},
   "outputs": [
    {
     "name": "stdout",
     "output_type": "stream",
     "text": [
      "['business', 'entertainment', 'politics', 'sport', 'tech']\n"
     ]
    }
   ],
   "source": [
    "categories = sorted(news_category_data['category'].unique())\n",
    "print(categories)"
   ]
  },
  {
   "cell_type": "markdown",
   "metadata": {},
   "source": [
    "### Visualization"
   ]
  },
  {
   "cell_type": "code",
   "execution_count": 5,
   "metadata": {},
   "outputs": [],
   "source": [
    "def visualize_categories(data,x,y):\n",
    "    plt.figure(figsize=(x,y))\n",
    "    data.value_counts().sort_values(ascending=False).plot(kind='barh')\n",
    "    plt.xlabel(\"Categories\")\n",
    "    plt.ylabel(\"Count\")\n",
    "    plt.title(\"News Categories\")"
   ]
  },
  {
   "cell_type": "code",
   "execution_count": 6,
   "metadata": {},
   "outputs": [
    {
     "data": {
      "image/png": "[encoded data removed]",
      "text/plain": [
       "<Figure size 720x432 with 1 Axes>"
      ]
     },
     "metadata": {
      "needs_background": "light"
     },
     "output_type": "display_data"
    }
   ],
   "source": [
    "visualize_categories(news_category_data['category'],10,6)"
   ]
  },
  {
   "cell_type": "markdown",
   "metadata": {},
   "source": [
    "From the above visualization, we can see three things, <br>\n",
    "* Most of the news texts belong to the class \"sport\" and \"business\".\n",
    "* The given dataset is slightly imbalanced."
   ]
  },
  {
   "cell_type": "markdown",
   "metadata": {},
   "source": [
    "### Data pre-processing and splitting data into train and test"
   ]
  },
  {
   "cell_type": "code",
   "execution_count": 7,
   "metadata": {},
   "outputs": [
    {
     "name": "stderr",
     "output_type": "stream",
     "text": [
      "[nltk_data] Downloading package stopwords to\n",
      "[nltk_data]     /Users/lawrence/nltk_data...\n",
      "[nltk_data]   Package stopwords is already up-to-date!\n"
     ]
    }
   ],
   "source": [
    "from sklearn.feature_extraction.text import TfidfVectorizer\n",
    "import nltk\n",
    "nltk.download('stopwords')\n",
    "from nltk.corpus import stopwords\n",
    "import string\n",
    "import contractions"
   ]
  },
  {
   "cell_type": "code",
   "execution_count": 8,
   "metadata": {},
   "outputs": [],
   "source": [
    "STOPWORDS = set(stopwords.words('english'))\n",
    "punct =[]\n",
    "punct += list(string.punctuation)\n",
    "punct += '’'\n",
    "punct.remove(\"'\")\n",
    "\n",
    "def remove_punctuations(text):\n",
    "    no_punct = \"\"\n",
    "    for char in text:\n",
    "        if char not in punct:\n",
    "            no_punct = no_punct + char\n",
    "    return no_punct"
   ]
  },
  {
   "cell_type": "code",
   "execution_count": 9,
   "metadata": {},
   "outputs": [],
   "source": [
    "def cleaned_sent(data):\n",
    "    cleaned_text = []\n",
    "    for sentences in data:\n",
    "        encoding = sentences.encode(\"ascii\",\"ignore\")\n",
    "        sent = encoding.decode().split()\n",
    "        cleaned_Sent = [text.lower() for text in sent]\n",
    "        cleaned_Sent = [contractions.fix(text) for text in cleaned_Sent]\n",
    "        cleaned_Sent = [remove_punctuations(text) for text in cleaned_Sent]\n",
    "        cleaned_Sent = [text for text in cleaned_Sent if(text.isalpha())]\n",
    "        cleaned_Sent = [text for text in cleaned_Sent if text not in STOPWORDS]\n",
    "        cleaned_Sent = \" \".join(cleaned_Sent)\n",
    "        cleaned_text.append(cleaned_Sent)\n",
    "    return cleaned_text"
   ]
  },
  {
   "cell_type": "code",
   "execution_count": 10,
   "metadata": {},
   "outputs": [
    {
     "name": "stdout",
     "output_type": "stream",
     "text": [
      "2225\n",
      "2225\n"
     ]
    }
   ],
   "source": [
    "cleaned_desc = cleaned_sent(news_category_data['articles'])\n",
    "print(len(cleaned_sent(news_category_data['articles']))) #2225\n",
    "print(len(news_category_data['category'].values)) #2225"
   ]
  },
  {
   "cell_type": "code",
   "execution_count": 11,
   "metadata": {},
   "outputs": [
    {
     "name": "stdout",
     "output_type": "stream",
     "text": [
      "29860\n"
     ]
    }
   ],
   "source": [
    "vectorizer = TfidfVectorizer()\n",
    "X = vectorizer.fit_transform(cleaned_desc)\n",
    "print(len(vectorizer.vocabulary_))"
   ]
  },
  {
   "cell_type": "code",
   "execution_count": 12,
   "metadata": {},
   "outputs": [],
   "source": [
    "from sklearn.model_selection import train_test_split\n",
    "x = cleaned_desc # the features we want to analyze\n",
    "y = news_category_data['category'] # the labels, or answers, we want to test against\n",
    "\n",
    "X_train, X_test, y_train, y_test = train_test_split(x, y, test_size=0.2)"
   ]
  },
  {
   "cell_type": "markdown",
   "metadata": {},
   "source": [
    "### Baseline"
   ]
  },
  {
   "cell_type": "code",
   "execution_count": 13,
   "metadata": {},
   "outputs": [
    {
     "name": "stdout",
     "output_type": "stream",
     "text": [
      "We got an accuracy of train data using dummy classifier:  20.67\n",
      "We got an accuracy of test data using dummy classifier:  20.22\n"
     ]
    }
   ],
   "source": [
    "from sklearn.dummy import DummyClassifier\n",
    "dummy_clf = DummyClassifier(strategy=\"stratified\")\n",
    "dummy_clf.fit(X_train, y_train)\n",
    "\n",
    "predicted_train_dummy = dummy_clf.predict(X_train)\n",
    "print('We got an accuracy of train data using dummy classifier: ',round(np.mean(predicted_train_dummy == y_train)*100,2))\n",
    "\n",
    "predicted_test_dummy = dummy_clf.predict(X_test)\n",
    "print('We got an accuracy of test data using dummy classifier: ',round(np.mean(predicted_test_dummy == y_test)*100,2))"
   ]
  },
  {
   "cell_type": "code",
   "execution_count": 14,
   "metadata": {},
   "outputs": [
    {
     "name": "stdout",
     "output_type": "stream",
     "text": [
      "We got an accuracy of train data using dummy classifier:  23.6\n",
      "We got an accuracy of test data using dummy classifier:  20.22\n"
     ]
    }
   ],
   "source": [
    "from sklearn.dummy import DummyClassifier\n",
    "dummy_clf_2 = DummyClassifier(strategy=\"most_frequent\")\n",
    "dummy_clf_2.fit(X_train, y_train)\n",
    "\n",
    "predicted_train_dummy_2 = dummy_clf_2.predict(X_train)\n",
    "print('We got an accuracy of train data using dummy classifier: ',round(np.mean(predicted_train_dummy_2 == y_train)*100,2))\n",
    "\n",
    "predicted_test_dummy_2 = dummy_clf_2.predict(X_test)\n",
    "print('We got an accuracy of test data using dummy classifier: ',round(np.mean(predicted_test_dummy_2 == y_test)*100,2))"
   ]
  },
  {
   "cell_type": "markdown",
   "metadata": {},
   "source": [
    "### Keras - Bi-LSTM model"
   ]
  },
  {
   "cell_type": "code",
   "execution_count": 15,
   "metadata": {},
   "outputs": [],
   "source": [
    "import tensorflow as tf\n",
    "import numpy as np\n",
    "from tensorflow.keras.preprocessing.text import Tokenizer\n",
    "from tensorflow.keras.preprocessing.sequence import pad_sequences\n",
    "from tensorflow.keras.models import Sequential\n",
    "from tensorflow.keras.layers import Dense, Flatten, LSTM, Dropout, Activation, Embedding, Bidirectional\n",
    "from keras.callbacks import ModelCheckpoint\n",
    "from pickle import load,dump\n",
    "import pickle\n",
    "from keras.models import Model, load_model"
   ]
  },
  {
   "cell_type": "markdown",
   "metadata": {},
   "source": [
    "#### Setting Hyperparameters"
   ]
  },
  {
   "cell_type": "code",
   "execution_count": 16,
   "metadata": {},
   "outputs": [],
   "source": [
    "vocab_size = 50000 # make the top list of words (common words)\n",
    "embedding_dim = 64\n",
    "max_length = 2000\n",
    "truncate_type = 'post'\n",
    "padding_type = 'post'\n",
    "oov_tok = '<OOV>' # OOV = Out of Vocabulary"
   ]
  },
  {
   "cell_type": "markdown",
   "metadata": {},
   "source": [
    "#### Tokenization"
   ]
  },
  {
   "cell_type": "code",
   "execution_count": 17,
   "metadata": {},
   "outputs": [],
   "source": [
    "tokenizer = Tokenizer(num_words = vocab_size, oov_token=oov_tok)\n",
    "tokenizer.fit_on_texts(X_train)\n",
    "dump(tokenizer, open('Data/tokenizer.p', 'wb'))\n",
    "word_index = tokenizer.word_index"
   ]
  },
  {
   "cell_type": "markdown",
   "metadata": {},
   "source": [
    "#### Converting to Sequence"
   ]
  },
  {
   "cell_type": "code",
   "execution_count": 18,
   "metadata": {},
   "outputs": [],
   "source": [
    "X_train_sequences = tokenizer.texts_to_sequences(X_train)\n",
    "X_test_sequences = tokenizer.texts_to_sequences(X_test)"
   ]
  },
  {
   "cell_type": "markdown",
   "metadata": {},
   "source": [
    "#### Sequence = Truncation + Padding"
   ]
  },
  {
   "cell_type": "code",
   "execution_count": 19,
   "metadata": {},
   "outputs": [],
   "source": [
    "X_train_padded = pad_sequences(X_train_sequences, maxlen=max_length, padding=padding_type, \n",
    "                               truncating=truncate_type)\n",
    "X_test_padded = pad_sequences(X_test_sequences, maxlen=max_length, padding=padding_type, \n",
    "                               truncating=truncate_type)"
   ]
  },
  {
   "cell_type": "markdown",
   "metadata": {},
   "source": [
    "#### Label Encoding"
   ]
  },
  {
   "cell_type": "code",
   "execution_count": 20,
   "metadata": {},
   "outputs": [],
   "source": [
    "label_tokenizer = Tokenizer()\n",
    "label_tokenizer.fit_on_texts(categories)\n",
    "\n",
    "y_train_label_seq = np.array(label_tokenizer.texts_to_sequences(y_train))\n",
    "y_test_label_seq = np.array(label_tokenizer.texts_to_sequences(y_test))"
   ]
  },
  {
   "cell_type": "code",
   "execution_count": 21,
   "metadata": {},
   "outputs": [
    {
     "data": {
      "text/plain": [
       "{'business': 1, 'entertainment': 2, 'politics': 3, 'sport': 4, 'tech': 5}"
      ]
     },
     "execution_count": 21,
     "metadata": {},
     "output_type": "execute_result"
    }
   ],
   "source": [
    "label_tokenizer.word_index"
   ]
  },
  {
   "cell_type": "markdown",
   "metadata": {},
   "source": [
    "#### Model construction, training and evaluation"
   ]
  },
  {
   "cell_type": "code",
   "execution_count": 22,
   "metadata": {},
   "outputs": [
    {
     "name": "stdout",
     "output_type": "stream",
     "text": [
      "Model: \"sequential\"\n",
      "_________________________________________________________________\n",
      "Layer (type)                 Output Shape              Param #   \n",
      "=================================================================\n",
      "embedding (Embedding)        (None, None, 64)          3200000   \n",
      "_________________________________________________________________\n",
      "dropout (Dropout)            (None, None, 64)          0         \n",
      "_________________________________________________________________\n",
      "bidirectional (Bidirectional (None, 128)               66048     \n",
      "_________________________________________________________________\n",
      "dense (Dense)                (None, 6)                 774       \n",
      "=================================================================\n",
      "Total params: 3,266,822\n",
      "Trainable params: 3,266,822\n",
      "Non-trainable params: 0\n",
      "_________________________________________________________________\n"
     ]
    }
   ],
   "source": [
    "model = Sequential()\n",
    "\n",
    "model.add(Embedding(vocab_size, embedding_dim))\n",
    "model.add(Dropout(0.5))\n",
    "model.add(Bidirectional(LSTM(embedding_dim)))\n",
    "model.add(Dense(6, activation='softmax'))\n",
    "\n",
    "model.summary()"
   ]
  },
  {
   "cell_type": "code",
   "execution_count": 23,
   "metadata": {},
   "outputs": [],
   "source": [
    "opt = tf.keras.optimizers.Adam(lr=0.001, decay=1e-6)\n",
    "model.compile(\n",
    "    loss='sparse_categorical_crossentropy',\n",
    "    optimizer=opt,\n",
    "    metrics=['accuracy'],\n",
    ")"
   ]
  },
  {
   "cell_type": "code",
   "execution_count": 24,
   "metadata": {},
   "outputs": [
    {
     "name": "stdout",
     "output_type": "stream",
     "text": [
      "Epoch 1/10\n",
      "\n",
      "Epoch 00001: val_loss improved from inf to 1.25558, saving model to Models/model-ep001-loss1.601-val_loss1.256.h5\n",
      "56/56 - 50s - loss: 1.6007 - accuracy: 0.3174 - val_loss: 1.2556 - val_accuracy: 0.4562\n",
      "Epoch 2/10\n",
      "\n",
      "Epoch 00002: val_loss improved from 1.25558 to 0.75375, saving model to Models/model-ep002-loss0.985-val_loss0.754.h5\n",
      "56/56 - 47s - loss: 0.9852 - accuracy: 0.5680 - val_loss: 0.7537 - val_accuracy: 0.6764\n",
      "Epoch 3/10\n",
      "\n",
      "Epoch 00003: val_loss improved from 0.75375 to 0.51385, saving model to Models/model-ep003-loss0.575-val_loss0.514.h5\n",
      "56/56 - 52s - loss: 0.5754 - accuracy: 0.8022 - val_loss: 0.5139 - val_accuracy: 0.8449\n",
      "Epoch 4/10\n",
      "\n",
      "Epoch 00004: val_loss improved from 0.51385 to 0.42321, saving model to Models/model-ep004-loss0.224-val_loss0.423.h5\n",
      "56/56 - 52s - loss: 0.2240 - accuracy: 0.9472 - val_loss: 0.4232 - val_accuracy: 0.8899\n",
      "Epoch 5/10\n",
      "\n",
      "Epoch 00005: val_loss improved from 0.42321 to 0.26481, saving model to Models/model-ep005-loss0.110-val_loss0.265.h5\n",
      "56/56 - 52s - loss: 0.1096 - accuracy: 0.9860 - val_loss: 0.2648 - val_accuracy: 0.9213\n",
      "Epoch 6/10\n",
      "\n",
      "Epoch 00006: val_loss improved from 0.26481 to 0.21851, saving model to Models/model-ep006-loss0.043-val_loss0.219.h5\n",
      "56/56 - 52s - loss: 0.0430 - accuracy: 0.9927 - val_loss: 0.2185 - val_accuracy: 0.9326\n",
      "Epoch 7/10\n",
      "\n",
      "Epoch 00007: val_loss improved from 0.21851 to 0.17878, saving model to Models/model-ep007-loss0.019-val_loss0.179.h5\n",
      "56/56 - 53s - loss: 0.0188 - accuracy: 0.9978 - val_loss: 0.1788 - val_accuracy: 0.9551\n",
      "Epoch 8/10\n",
      "\n",
      "Epoch 00008: val_loss improved from 0.17878 to 0.17111, saving model to Models/model-ep008-loss0.014-val_loss0.171.h5\n",
      "56/56 - 53s - loss: 0.0137 - accuracy: 0.9989 - val_loss: 0.1711 - val_accuracy: 0.9506\n",
      "Epoch 9/10\n",
      "\n",
      "Epoch 00009: val_loss did not improve from 0.17111\n",
      "56/56 - 53s - loss: 0.0084 - accuracy: 0.9994 - val_loss: 0.3296 - val_accuracy: 0.9079\n",
      "Epoch 10/10\n",
      "\n",
      "Epoch 00010: val_loss did not improve from 0.17111\n",
      "56/56 - 54s - loss: 0.0087 - accuracy: 0.9994 - val_loss: 0.2106 - val_accuracy: 0.9371\n"
     ]
    }
   ],
   "source": [
    "num_epochs = 10\n",
    "filepath = 'Models/model-ep{epoch:03d}-loss{loss:.3f}-val_loss{val_loss:.3f}.h5'\n",
    "checkpoint = ModelCheckpoint(filepath, monitor='val_loss', verbose=1, save_best_only=True, mode='min')\n",
    "history = model.fit(X_train_padded, y_train_label_seq, epochs=num_epochs,callbacks=[checkpoint], validation_data=(X_test_padded, y_test_label_seq), verbose=2)"
   ]
  },
  {
   "cell_type": "markdown",
   "metadata": {},
   "source": [
    "#### Graphical representation of loss and accuracy"
   ]
  },
  {
   "cell_type": "code",
   "execution_count": 25,
   "metadata": {},
   "outputs": [
    {
     "data": {
      "image/png": "[encoded data removed]",
      "text/plain": [
       "<Figure size 432x288 with 1 Axes>"
      ]
     },
     "metadata": {
      "needs_background": "light"
     },
     "output_type": "display_data"
    },
    {
     "data": {
      "image/png": "[encoded data removed]",
      "text/plain": [
       "<Figure size 432x288 with 1 Axes>"
      ]
     },
     "metadata": {
      "needs_background": "light"
     },
     "output_type": "display_data"
    }
   ],
   "source": [
    "plt.plot(history.history['accuracy'])\n",
    "plt.plot(history.history['val_accuracy'])\n",
    "plt.xlabel(\"Epochs\")\n",
    "plt.ylabel('Accuracy')\n",
    "plt.legend([\"train_accuracy\", 'val_accuracy'])\n",
    "plt.show()\n",
    "\n",
    "plt.plot(history.history['loss'])\n",
    "plt.plot(history.history['val_loss'])\n",
    "plt.xlabel(\"Epochs\")\n",
    "plt.ylabel('Loss')\n",
    "plt.legend([\"train_loss\", 'val_loss'])\n",
    "plt.show()"
   ]
  },
  {
   "cell_type": "code",
   "execution_count": 26,
   "metadata": {},
   "outputs": [
    {
     "data": {
      "image/png": "[encoded data removed]",
      "text/plain": [
       "<IPython.core.display.Image object>"
      ]
     },
     "execution_count": 26,
     "metadata": {},
     "output_type": "execute_result"
    }
   ],
   "source": [
    "from keras.models import load_model\n",
    "import visualkeras\n",
    "from tensorflow.keras.utils import plot_model\n",
    "\n",
    "plot_model(model, to_file='Outputs/model_plot.png', show_shapes=True, show_layer_names=True)"
   ]
  },
  {
   "cell_type": "markdown",
   "metadata": {},
   "source": [
    "#### Evaluation"
   ]
  },
  {
   "cell_type": "code",
   "execution_count": 27,
   "metadata": {},
   "outputs": [
    {
     "name": "stdout",
     "output_type": "stream",
     "text": [
      "1\n"
     ]
    }
   ],
   "source": [
    "#Source : https://edition.cnn.com/2020/12/16/tech/spotify-gaming-league-of-legends/index.html\n",
    "text = [\"\"\"One of the undisputed winners of 2020's work-from-home transition has been Spotify, and it's not just because of all the new Taylor Swift albums and addictive true-crime podcasts.\n",
    "As the streaming platform looks back on the biggest trends of 2020, one thing is certain: people are playing lots and lots of video games.\n",
    "People streamed music from their gaming consoles 55% more this year compared to last year, Spotify told CNN Business.\n",
    "\"This year was unlike [any] before and as people started to social distance, users were looking for ways to stay connected with each other virtually,\" said Shanon Cook, Spotify's head of global culture and trends. \"Gaming seemed to be something that provided that feeling of connectivity, while also passing time at home.\"\n",
    "It's hardly a surprise that streaming is up across the board, but Spotify told CNN Business there were some unexpected trends this year.\n",
    "Gamers tuned in early. The music streamed on gaming consoles between the hours of 6 am and 9mam rose 47% from last year. Their preferred genre? Mostly rap and trap music. The top songs streamed on gaming consoles included \"The Box\" by Roddy Ricch, \"Blueberry Faygo\" by Lil Mosey, \"goosebumps\" by rapper Travis Scott, \"ROCKSTAR\" by DaBaby feat. Roddy Ricch and \"Falling\" by Trevor Daniel.\n",
    "Spotify traffic for Travis Scott, who has deals with McDonalds, PlayStation and Fortnite, skyrocketed after he performed a virtual concert inside Fortnite. The streaming platform noted streams increased 207% worldwide between April 26 and April 30 compared to the same period last year.\n",
    "People actually sought out video game music. The most popular video game soundtracks this year were from \"Minecraft,\"the original \"Doom\" and \"Death Stranding.\"\"\"]\n",
    "cleaned_test_data = cleaned_sent(text)\n",
    "print(len(cleaned_test_data))"
   ]
  },
  {
   "cell_type": "code",
   "execution_count": 28,
   "metadata": {},
   "outputs": [
    {
     "data": {
      "text/plain": [
       "['one undisputed winners workfromhome transition spotify new taylor swift albums addictive truecrime podcasts streaming platform looks back biggest trends one thing certain people playing lots lots video games people streamed music gaming consoles year compared last year spotify told cnn business year unlike people started social distance users looking ways stay connected virtually said shanon cook head global culture trends gaming seemed something provided feeling connectivity also passing time home hardly surprise streaming across board spotify told cnn business unexpected trends year gamers tuned early music streamed gaming consoles hours rose last year preferred genre mostly rap trap music top songs streamed gaming consoles included box roddy ricch blueberry faygo lil mosey goosebumps rapper travis scott rockstar dababy feat roddy ricch falling trevor daniel spotify traffic travis scott deals mcdonalds playstation fortnite skyrocketed performed virtual concert inside fortnite streaming platform noted streams increased worldwide april april compared period last year people actually sought video game music popular video game soundtracks year minecraftthe original doom death stranding']"
      ]
     },
     "execution_count": 28,
     "metadata": {},
     "output_type": "execute_result"
    }
   ],
   "source": [
    "cleaned_test_data"
   ]
  },
  {
   "cell_type": "code",
   "execution_count": 29,
   "metadata": {},
   "outputs": [
    {
     "name": "stdout",
     "output_type": "stream",
     "text": [
      "4\n",
      "tech\n"
     ]
    }
   ],
   "source": [
    "saved_tokenizer = load(open(\"Data/tokenizer.p\",\"rb\"))\n",
    "loaded_model = load_model(\"Models/model-ep008-loss0.014-val_loss0.171.h5\")\n",
    "sentence_seq = saved_tokenizer.texts_to_sequences(cleaned_test_data)\n",
    "padded_sent = pad_sequences(sentence_seq, maxlen=max_length,padding=padding_type, \n",
    "                               truncating=truncate_type)\n",
    "pred_category = loaded_model.predict(padded_sent)\n",
    "print(np.argmax(pred_category)-1)\n",
    "print(categories[np.argmax(pred_category)-1])"
   ]
  },
  {
   "cell_type": "markdown",
   "metadata": {},
   "source": [
    "Given text from CNN tech is predicted and belong to class \"tech\""
   ]
  },
  {
   "cell_type": "code",
   "execution_count": 30,
   "metadata": {},
   "outputs": [
    {
     "data": {
      "text/plain": [
       "445"
      ]
     },
     "execution_count": 30,
     "metadata": {},
     "output_type": "execute_result"
    }
   ],
   "source": [
    "pred_news_category = []\n",
    "for articles in X_test:\n",
    "    cleaned_test_data = cleaned_sent([articles])\n",
    "    sentence_seq = saved_tokenizer.texts_to_sequences(cleaned_test_data)\n",
    "    padded_sent = pad_sequences(sentence_seq, maxlen=max_length,padding=padding_type, truncating=truncate_type)\n",
    "    pred_news_category.append(categories[np.argmax(loaded_model.predict(padded_sent))-1])\n",
    "len(pred_news_category)"
   ]
  },
  {
   "cell_type": "code",
   "execution_count": 31,
   "metadata": {},
   "outputs": [
    {
     "name": "stdout",
     "output_type": "stream",
     "text": [
      "Precision Score : 0.952\n",
      "Recall Score : 0.951\n",
      "F1 Score : 0.951\n"
     ]
    }
   ],
   "source": [
    "from sklearn.metrics import accuracy_score, recall_score, precision_score, f1_score\n",
    "print(\"Precision Score :\",round(precision_score(y_test,pred_news_category,average='weighted'),3))\n",
    "print(\"Recall Score :\",round(recall_score(y_test,pred_news_category,average='weighted'),3))\n",
    "print(\"F1 Score :\",round(f1_score(y_test,pred_news_category,average='weighted'),3))"
   ]
  }
 ],
 "metadata": {
  "kernelspec": {
   "display_name": "Python 3",
   "language": "python",
   "name": "python3"
  },
  "language_info": {
   "codemirror_mode": {
    "name": "ipython",
    "version": 3
   },
   "file_extension": ".py",
   "mimetype": "text/x-python",
   "name": "python",
   "nbconvert_exporter": "python",
   "pygments_lexer": "ipython3",
   "version": "3.8.5"
  }
 },
 "nbformat": 4,
 "nbformat_minor": 4
}
